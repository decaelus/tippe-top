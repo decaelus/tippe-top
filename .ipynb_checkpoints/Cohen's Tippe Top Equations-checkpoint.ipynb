{
 "cells": [
  {
   "cell_type": "markdown",
   "metadata": {},
   "source": [
    "This notebook solves the dynamical equations for tippe top rotation worked out in Cohen (1977) Am J Phys -- http://adsabs.harvard.edu/abs/1977AmJPh..45...12C."
   ]
  },
  {
   "cell_type": "markdown",
   "metadata": {},
   "source": [
    "$\\dot{\\vec{u}}_{\\rm CP} = \\vec{F}_{\\rm f}/m$"
   ]
  },
  {
   "cell_type": "markdown",
   "metadata": {},
   "source": [
    "$\\vec{F}_{\\rm f} = \\left( -\\vec{v}_{\\rm TP}/|\\vec{v}_{\\rm TP}| \\right) \\mu |\\vec{F}_{\\rm N}|$"
   ]
  },
  {
   "cell_type": "markdown",
   "metadata": {},
   "source": [
    "$\\vec{v}_{\\rm TP} = \\vec{u}_{\\rm CP} + \\vec{v}_{\\rm TCP}$"
   ]
  },
  {
   "cell_type": "markdown",
   "metadata": {},
   "source": [
    "$\\vec{v}_{\\rm TCP} = \\left[ \\left(R \\dot{\\psi} + a \\dot{\\phi} \\right) \\sin \\theta \\cos \\phi + \\dot{\\theta} \\sin \\phi \\left( a \\cos \\theta - R \\right) \\right] \\hat{e}_{\\rm x} + \\left[ \\left( R \\dot{\\psi} + a \\dot{\\phi} \\right) \\sin \\theta \\sin \\phi + \\dot{\\theta} \\cos \\phi \\left( R - a \\cos \\theta \\right) \\right] \\hat{e}_{\\rm y}$"
   ]
  },
  {
   "cell_type": "markdown",
   "metadata": {},
   "source": [
    "$\\vec{u}_{\\rm CP} = u_{\\rm x}\\ \\hat{e}_{\\rm x} + u_{\\rm y}\\ \\hat{e}_{\\rm y}$"
   ]
  },
  {
   "cell_type": "markdown",
   "metadata": {},
   "source": [
    "$\\vec{F}_{\\rm N} = m \\left( \\ddot{z}_{\\rm C} + g \\right) \\left( \\sin\\theta\\ \\hat{e}_{n^\\prime} + \\cos\\theta\\ \\hat{e}_{\\rm 3} \\right)$\n",
    "\n",
    "$\\ddot{z}_{\\rm C} = a \\left( \\dot{\\theta}^2 \\cos \\theta + \\ddot{\\theta} \\sin \\theta \\right)$"
   ]
  },
  {
   "cell_type": "markdown",
   "metadata": {},
   "source": [
    "$\\dot{\\vec{u}}_{\\rm CP} = -\\mu \\left[ a \\left( \\dot{\\theta}^2 \\cos\\theta + \\ddot{\\theta}\\sin\\theta + g \\right) \\right] \\times \\dfrac{\\left[ \\left(R \\dot{\\psi} + a \\dot{\\phi} \\right) \\sin \\theta \\cos \\phi + \\dot{\\theta} \\sin \\phi \\left( a \\cos \\theta - R \\right) + \\left( u_{\\rm CP} \\right)_{\\rm x} \\right] \\hat{e}_{\\rm x} + \\left[ \\left( R \\dot{\\psi} + a \\dot{\\phi} \\right) \\sin \\theta \\sin \\phi + \\dot{\\theta} \\cos \\phi \\left( R - a \\cos \\theta \\right) + \\left( u_{\\rm CP} \\right)_{\\rm y} \\right] \\hat{e}_{\\rm y}}{\\sqrt{ \\left[ \\left(R \\dot{\\psi} + a \\dot{\\phi} \\right) \\sin \\theta \\cos \\phi + \\dot{\\theta} \\sin \\phi \\left( a \\cos \\theta - R \\right) + u_{\\rm x} \\right]^2 + \\left[ \\left( R \\dot{\\psi} + a \\dot{\\phi} \\right) \\sin \\theta \\sin \\phi + \\dot{\\theta} \\cos \\phi \\left( R - a \\cos \\theta \\right) + u_{\\rm y} \\right]^2 }}$"
   ]
  },
  {
   "cell_type": "markdown",
   "metadata": {},
   "source": [
    "---"
   ]
  },
  {
   "cell_type": "markdown",
   "metadata": {},
   "source": [
    "$\\vec{r} = \\vec{R} - \\vec{a}, \\vec{R} = -R \\left( \\sin \\theta \\hat{e}_{\\rm n^\\prime} + \\cos \\theta \\hat{e}_{\\rm 3} \\right), \\vec{a} = -a \\hat{e}_{\\rm 3}$<br>\n",
    "$\\vec{r} = -R \\sin \\theta\\ \\hat{e}_{\\rm n^\\prime} + \\left( a - R \\cos \\theta \\right)\\ \\hat{e}_{\\rm 3}$"
   ]
  },
  {
   "cell_type": "markdown",
   "metadata": {},
   "source": [
    "$\\vec{N}_{\\rm N} = \\vec{r} \\times \\vec{F}_{\\rm N}, \\vec{F}_{\\rm N} = \\left( m \\ddot{z}_{\\rm C} + m g \\right)\\ \\hat{e}_{\\rm z} = \\left( m \\ddot{z}_{\\rm C} + m g \\right) \\left(\\sin \\theta\\ \\hat{e}_{\\rm n^\\prime} + \\cos \\theta\\ \\hat{e}_{\\rm 3} \\right)$<br>\n",
    "\n",
    "$\\vec{N}_{\\rm N} = \\left[ -R \\sin\\theta\\ \\hat{e}_{\\rm n^\\prime} + \\left( a - R \\cos\\theta \\right)\\ \\hat{e}_{\\rm 3} \\right] \\times \\left( m \\ddot{z}_{\\rm C} + m g \\right) \\left(\\sin \\theta\\ \\hat{e}_{\\rm n^\\prime} + \\cos \\theta\\ \\hat{e}_{\\rm 3} \\right)$"
   ]
  },
  {
   "cell_type": "markdown",
   "metadata": {},
   "source": [
    "$\\vec{N}_{\\rm N} = \\left(m \\ddot{z}_{\\rm C} + m g \\right) \\left[ -R \\sin\\theta \\cos\\theta - \\left( a - R\\cos\\theta \\right)\\sin\\theta \\right]\\ \\hat{e}_{\\rm n} = \\boxed{ m \\left[ a \\left( \\dot{\\theta}^2 \\cos \\theta + \\ddot{\\theta} \\sin \\theta \\right) + g \\right] a\\sin\\theta\\ \\hat{e}_{\\rm n} = \\vec{N}_{\\rm N} }$"
   ]
  },
  {
   "cell_type": "markdown",
   "metadata": {},
   "source": [
    "$\\vec{N}_{\\rm f} = |\\vec{F}_{\\rm f}| \\left[\\left(R \\cos\\theta - a\\right)\\ \\hat{e}_{\\rm n^\\prime} - R\\sin\\theta\\ \\hat{e}_{\\rm 3} \\right]$ and $|\\vec{F}_{\\rm f}| = \\mu |\\vec{F}_{\\rm N}|$"
   ]
  },
  {
   "cell_type": "markdown",
   "metadata": {},
   "source": [
    "$\\boxed{ \\vec{N}_{\\rm f} = \\mu m \\left[ a \\left( \\dot{\\theta}^2 \\cos \\theta + \\ddot{\\theta} \\sin \\theta \\right) + g \\right] \\left[\\left(R \\cos\\theta - a\\right)\\ \\hat{e}_{\\rm n^\\prime} - R\\sin\\theta\\ \\hat{e}_{\\rm 3} \\right] }$"
   ]
  },
  {
   "cell_type": "markdown",
   "metadata": {},
   "source": [
    "---"
   ]
  },
  {
   "cell_type": "markdown",
   "metadata": {},
   "source": [
    "### Cohen's Equations"
   ]
  },
  {
   "cell_type": "markdown",
   "metadata": {},
   "source": [
    "1. $-\\mu m R\\sin\\theta\\ \\left[ a \\left( \\dot{\\theta}^2 \\cos \\theta + \\ddot{\\theta} \\sin \\theta \\right) + g \\right] = I_{\\rm 3}\\left( \\ddot{\\phi}\\cos\\theta - \\dot{\\phi}\\dot{\\theta}\\sin\\theta + \\ddot{\\psi} \\right)$\n",
    "2. $m \\left[ a \\left( \\dot{\\theta}^2 \\cos \\theta + \\ddot{\\theta} \\sin \\theta \\right) + g \\right] a\\sin\\theta\\ = I\\ddot{\\theta} + I_{\\rm 3} \\dot{\\phi}\\dot{\\psi}\\sin\\theta + \\left( I_{\\rm 3} - I \\right) \\dot{\\phi}^2\\sin\\theta\\cos\\theta$\n",
    "3. $\\mu m \\left[ a \\left( \\dot{\\theta}^2 \\cos \\theta + \\ddot{\\theta} \\sin \\theta \\right) + g \\right] \\left(R \\cos\\theta - a\\right) = I\\ddot{\\phi}\\sin\\theta + \\left( 2 I - I_{\\rm 3} \\right)\\dot{\\theta}\\dot{\\phi}\\cos\\theta - I_{\\rm 3} \\dot{\\theta}\\dot{\\psi}$\n",
    "4. $\\ddot{x}_{\\rm C} = -\\mu \\left[ a \\left( \\dot{\\theta}^2 \\cos\\theta + \\ddot{\\theta}\\sin\\theta + g \\right) \\right] \\times \\dfrac{\\left[ \\left(R \\dot{\\psi} + a \\dot{\\phi} \\right) \\sin \\theta \\cos \\phi + \\dot{\\theta} \\sin \\phi \\left( a \\cos \\theta - R \\right) + \\left( u_{\\rm CP} \\right)_{\\rm x} \\right]} {\\sqrt{ \\left[ \\left(R \\dot{\\psi} + a \\dot{\\phi} \\right) \\sin \\theta \\cos \\phi + \\dot{\\theta} \\sin \\phi \\left( a \\cos \\theta - R \\right) + u_{\\rm x} \\right]^2 + \\left[ \\left( R \\dot{\\psi} + a \\dot{\\phi} \\right) \\sin \\theta \\sin \\phi + \\dot{\\theta} \\cos \\phi \\left( R - a \\cos \\theta \\right) + u_{\\rm y} \\right]^2 }}$\n",
    "5. $\\ddot{y}_{\\rm C} = -\\mu \\left[ a \\left( \\dot{\\theta}^2 \\cos\\theta + \\ddot{\\theta}\\sin\\theta + g \\right) \\right] \\times \\dfrac{\\left[ \\left( R \\dot{\\psi} + a \\dot{\\phi} \\right) \\sin \\theta \\sin \\phi + \\dot{\\theta} \\cos \\phi \\left( R - a \\cos \\theta \\right) + \\left( u_{\\rm CP} \\right)_{\\rm y} \\right]} {\\sqrt{ \\left[ \\left(R \\dot{\\psi} + a \\dot{\\phi} \\right) \\sin \\theta \\cos \\phi + \\dot{\\theta} \\sin \\phi \\left( a \\cos \\theta - R \\right) + u_{\\rm x} \\right]^2 + \\left[ \\left( R \\dot{\\psi} + a \\dot{\\phi} \\right) \\sin \\theta \\sin \\phi + \\dot{\\theta} \\cos \\phi \\left( R - a \\cos \\theta \\right) + u_{\\rm y} \\right]^2 }}$\n",
    "6. $\\ddot{z}_{\\rm C} = a \\left( \\dot{\\theta}^2 \\cos \\theta + \\ddot{\\theta} \\sin \\theta \\right)$"
   ]
  },
  {
   "cell_type": "markdown",
   "metadata": {},
   "source": [
    "But I need to work out the angular accelerations individually."
   ]
  },
  {
   "cell_type": "markdown",
   "metadata": {},
   "source": [
    "$\\ddot{\\theta} = \\sin\\theta \\left[ I - ma^2\\sin^2 \\theta \\right]^{-1} \\left[ ma^2 \\left( \\dot{\\theta}^2 \\cos\\theta + g \\right) - I_{\\rm 3} \\dot{\\phi}\\dot{\\psi} - \\left( I_{\\rm 3} - I \\right) \\dot{\\phi}^2 \\cos\\theta\\right]$"
   ]
  },
  {
   "cell_type": "markdown",
   "metadata": {},
   "source": [
    "$\\ddot{\\phi} = \\left[ I \\sin\\theta \\right]^{-1} \\left\\{ \\mu m \\left[ a \\left( \\dot{\\theta}^2 \\cos \\theta + \\ddot{\\theta} \\sin \\theta \\right) + g \\right] \\left(R \\cos\\theta - a\\right) - \\left( 2 I - I_{\\rm 3} \\right)\\dot{\\theta}\\dot{\\phi}\\cos\\theta + I_{\\rm 3} \\dot{\\theta}\\dot{\\psi}\\right\\}$"
   ]
  },
  {
   "cell_type": "markdown",
   "metadata": {},
   "source": [
    "$\\ddot{\\psi} = - I_{\\rm 3}^{-1} \\mu m R\\sin\\theta\\  \\left[ a \\left( \\dot{\\theta}^2 \\cos \\theta + \\ddot{\\theta} \\sin \\theta \\right) + g \\right] - \\ddot{\\phi}\\cos\\theta + \\dot{\\phi}\\dot{\\theta}\\sin\\theta$"
   ]
  },
  {
   "cell_type": "markdown",
   "metadata": {},
   "source": [
    "---"
   ]
  },
  {
   "cell_type": "code",
   "execution_count": 1,
   "metadata": {
    "collapsed": true
   },
   "outputs": [],
   "source": [
    "%matplotlib inline\n",
    "%config InlineBackend.figure_format='retina'\n",
    "\n",
    "import numpy as np\n",
    "from scipy.integrate import odeint as od\n",
    "import matplotlib.pyplot as plt"
   ]
  },
  {
   "cell_type": "code",
   "execution_count": 72,
   "metadata": {
    "collapsed": true
   },
   "outputs": [],
   "source": [
    "m = 15e-2 #15 kg\n",
    "g = 9.8 #m/s^2\n",
    "a = 0.5e-2 #0.5 cm\n",
    "R = 2.5e-2 #2.5 cm\n",
    "I = 2./5*m*R**2.\n",
    "I3 = I\n",
    "mu = 0.3"
   ]
  },
  {
   "cell_type": "code",
   "execution_count": 76,
   "metadata": {
    "collapsed": false
   },
   "outputs": [],
   "source": [
    "def ddot_theta_func(vrs, t): \n",
    "    theta, phi, psi, xC, yC, zC, dot_theta, dot_phi, dot_psi, dot_xC, dot_yC, dot_zC = vrs\n",
    "    \n",
    "    return np.sin(theta)/(I - m*a**2*np.sin(theta)**2)*\\\n",
    "        (m*a**2*(dot_theta**2*np.cos(theta) + g) - I3*dot_phi*dot_psi - (I3 - I)*dot_phi**2*np.cos(theta))\n",
    "\n",
    "def ddot_phi_func(vrs, t): \n",
    "    theta, phi, psi, xC, yC, zC, dot_theta, dot_phi, dot_psi, dot_xC, dot_yC, dot_zC = vrs\n",
    "    \n",
    "    ddot_theta = ddot_theta_func(vrs, t)\n",
    "    \n",
    "    return 1./(I*np.sin(theta))*\\\n",
    "        (mu*m*(a*(dot_theta**2*np.cos(theta) + ddot_theta*np.sin(theta)) + g)*(R*np.cos(theta) - a) -\\\n",
    "        (2.*I - I3)*dot_theta*dot_phi*np.cos(theta) + I3*dot_theta*dot_psi)\n",
    "\n",
    "def ddot_psi_func(vrs, t): \n",
    "    theta, phi, psi, xC, yC, zC, dot_theta, dot_phi, dot_psi, dot_xC, dot_yC, dot_zC = vrs\n",
    "    \n",
    "    ddot_theta = ddot_theta_func(vrs, t)\n",
    "    ddot_phi = ddot_phi_func(vrs, t)\n",
    "\n",
    "    return -mu*m*R*np.sin(theta)/I3*(a*(dot_theta**2*np.cos(theta) + ddot_theta*np.sin(theta)) + g)\\\n",
    "        - ddot_phi*np.cos(theta) + dot_phi*dot_theta*np.sin(theta)\n",
    "\n",
    "def ddot_xC_func(vrs, t):\n",
    "    theta, phi, psi, xC, yC, zC, dot_theta, dot_phi, dot_psi, dot_xC, dot_yC, dot_zC = vrs\n",
    "    \n",
    "    ddot_theta = ddot_theta_func(vrs, t)\n",
    "    \n",
    "    term_1 = -mu*a*(dot_theta**2*np.cos(theta) + ddot_theta*np.sin(theta) + g)\n",
    "    \n",
    "    sqrt_term_1 =\\\n",
    "        ((R*dot_psi + a*dot_phi)*np.sin(theta)*np.cos(phi) + dot_theta*np.sin(phi)*(a*np.cos(theta) - R) + dot_xC)\n",
    "    sqrt_term_2 =\\\n",
    "        ((R*dot_psi + a*dot_phi)*np.sin(theta)*np.sin(phi) + dot_theta*np.cos(phi)*(R - a*np.cos(theta)) + dot_yC)\n",
    "    sqrt_term = np.sqrt(sqrt_term_1**2 + sqrt_term_2**2)\n",
    "    \n",
    "    return term_1*sqrt_term_1/sqrt_term        \n",
    "\n",
    "def ddot_yC_func(vrs, t):\n",
    "    theta, phi, psi, xC, yC, zC, dot_theta, dot_phi, dot_psi, dot_xC, dot_yC, dot_zC = vrs\n",
    "    \n",
    "    ddot_theta = ddot_theta_func(vrs, t)\n",
    "    \n",
    "    term_1 = -mu*a*(dot_theta**2*np.cos(theta) + ddot_theta*np.sin(theta) + g)\n",
    "    \n",
    "    sqrt_term_1 =\\\n",
    "        ((R*dot_psi + a*dot_phi)*np.sin(theta)*np.cos(phi) + dot_theta*np.sin(phi)*(a*np.cos(theta) - R) + dot_xC)\n",
    "    sqrt_term_2 =\\\n",
    "        ((R*dot_psi + a*dot_phi)*np.sin(theta)*np.sin(phi) + dot_theta*np.cos(phi)*(R - a*np.cos(theta)) + dot_yC)\n",
    "    sqrt_term = np.sqrt(sqrt_term_1**2 + sqrt_term_2**2)\n",
    "    \n",
    "    return term_1*sqrt_term_2/sqrt_term\n",
    "\n",
    "def ddot_zC_func(vrs, t):\n",
    "    theta, phi, psi, xC, yC, zC, dot_theta, dot_phi, dot_psi, dot_xC, dot_yC, dot_zC = vrs\n",
    "    \n",
    "    ddot_theta = ddot_theta_func(vrs, t)\n",
    "    \n",
    "    return a*(dot_theta**2*np.cos(theta) + ddot_theta*np.sin(theta))\n",
    "\n",
    "def ddot_all_vrs(vrs, t):\n",
    "    theta, phi, psi, xC, yC, zC, dot_theta, dot_phi, dot_psi, dot_xC, dot_yC, dot_zC = vrs\n",
    "    \n",
    "    ddot_theta = ddot_theta_func(vrs, t)\n",
    "    ddot_phi = ddot_phi_func(vrs, t)\n",
    "    ddot_psi = ddot_psi_func(vrs, t)\n",
    "    ddot_xC = ddot_xC_func(vrs, t)\n",
    "    ddot_yC = ddot_yC_func(vrs, t)\n",
    "    ddot_zC = ddot_zC_func(vrs, t)\n",
    "\n",
    "    return np.array([dot_theta, dot_phi, dot_psi, dot_xC, dot_yC, dot_zC, \n",
    "                     ddot_theta, ddot_phi, ddot_psi, ddot_psi, ddot_xC, ddot_yC, ddot_zC])"
   ]
  },
  {
   "cell_type": "code",
   "execution_count": 86,
   "metadata": {
    "collapsed": false
   },
   "outputs": [
    {
     "data": {
      "text/plain": [
       "[<matplotlib.lines.Line2D at 0x119979550>]"
      ]
     },
     "execution_count": 86,
     "metadata": {},
     "output_type": "execute_result"
    },
    {
     "data": {
      "image/png": "[encoded data removed]",
      "text/plain": [
       "<matplotlib.figure.Figure at 0x118eef110>"
      ]
     },
     "metadata": {
      "image/png": {
       "height": 255,
       "width": 377
      }
     },
     "output_type": "display_data"
    }
   ],
   "source": [
    "theta = 0.1\n",
    "phi = 0.\n",
    "psi = 0.\n",
    "xC = 0.\n",
    "yC = 0.\n",
    "zC = 0.\n",
    "dot_theta = 0.\n",
    "dot_phi = 0.\n",
    "dot_psi = 100. #rad/sec\n",
    "dot_xC, dot_yC, dot_zC = 0., 0., 0.\n",
    "t = np.linspace(0., 2., 100)\n",
    "\n",
    "y0 = theta, phi, psi, xC, yC, zC, dot_theta, dot_phi, dot_psi, dot_xC, dot_yC, dot_zC\n",
    "solution = od(ddot_all_vrs, y0, t)\n",
    "\n",
    "plt.plot(t, solution[:,0])"
   ]
  },
  {
   "cell_type": "code",
   "execution_count": null,
   "metadata": {
    "collapsed": true
   },
   "outputs": [],
   "source": []
  }
 ],
 "metadata": {
  "kernelspec": {
   "display_name": "Python 2",
   "language": "python",
   "name": "python2"
  },
  "language_info": {
   "codemirror_mode": {
    "name": "ipython",
    "version": 2
   },
   "file_extension": ".py",
   "mimetype": "text/x-python",
   "name": "python",
   "nbconvert_exporter": "python",
   "pygments_lexer": "ipython2",
   "version": "2.7.11"
  }
 },
 "nbformat": 4,
 "nbformat_minor": 0
}

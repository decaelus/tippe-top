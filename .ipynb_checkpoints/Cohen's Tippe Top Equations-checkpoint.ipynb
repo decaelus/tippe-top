{
 "cells": [
  {
   "cell_type": "markdown",
   "metadata": {},
   "source": [
    "This notebook solves the dynamical equations for tippe top rotation worked out in Cohen (1977) Am J Phys -- http://adsabs.harvard.edu/abs/1977AmJPh..45...12C."
   ]
  },
  {
   "cell_type": "markdown",
   "metadata": {},
   "source": [
    "$\\dot{\\vec{u}}_{\\rm CP} = \\vec{F}_{\\rm f}/m$"
   ]
  },
  {
   "cell_type": "markdown",
   "metadata": {},
   "source": [
    "$\\vec{F}_{\\rm f} = \\left( -\\vec{v}_{\\rm TP}/|\\vec{v}_{\\rm TP}| \\right) \\mu |\\vec{F}_{\\rm N}|$"
   ]
  },
  {
   "cell_type": "markdown",
   "metadata": {},
   "source": [
    "$\\vec{v}_{\\rm TP} = \\vec{u}_{\\rm CP} + \\vec{v}_{\\rm TCP}$"
   ]
  },
  {
   "cell_type": "markdown",
   "metadata": {},
   "source": [
    "$\\vec{v}_{\\rm TCP} = \\left[ \\left(R \\dot{\\psi} + a \\dot{\\phi} \\right) \\sin \\theta \\cos \\phi + \\dot{\\theta} \\sin \\phi \\left( a \\cos \\theta - R \\right) \\right] \\hat{e}_{\\rm x} + \\left[ \\left( R \\dot{\\psi} + a \\dot{\\phi} \\right) \\sin \\theta \\sin \\phi + \\dot{\\theta} \\cos \\phi \\left( R - a \\cos \\theta \\right) \\right] \\hat{e}_{\\rm y}$"
   ]
  },
  {
   "cell_type": "markdown",
   "metadata": {},
   "source": [
    "$\\vec{u}_{\\rm CP} = u_{\\rm x}\\ \\hat{e}_{\\rm x} + u_{\\rm y}\\ \\hat{e}_{\\rm y}$"
   ]
  },
  {
   "cell_type": "markdown",
   "metadata": {},
   "source": [
    "$F_{\\rm N} = m \\ddot{z}_{\\rm C} + m g$\n",
    "\n",
    "$\\ddot{z}_{\\rm C} = a \\left( \\dot{\\theta}^2 \\cos \\theta + \\ddot{\\theta} \\sin \\theta \\right)$"
   ]
  },
  {
   "cell_type": "markdown",
   "metadata": {},
   "source": [
    "$\\dot{\\vec{u}}_{\\rm CP} = -\\mu \\left[ a \\left( \\dot{\\theta}^2 \\cos\\theta + \\ddot{\\theta}\\sin\\theta + g \\right) \\right] \\times \\dfrac{\\left[ \\left(R \\dot{\\psi} + a \\dot{\\phi} \\right) \\sin \\theta \\cos \\phi + \\dot{\\theta} \\sin \\phi \\left( a \\cos \\theta - R \\right) + \\left( u_{\\rm CP} \\right)_{\\rm x} \\right] \\hat{e}_{\\rm x} + \\left[ \\left( R \\dot{\\psi} + a \\dot{\\phi} \\right) \\sin \\theta \\sin \\phi + \\dot{\\theta} \\cos \\phi \\left( R - a \\cos \\theta \\right) + \\left( u_{\\rm CP} \\right)_{\\rm y} \\right] \\hat{e}_{\\rm y}}{\\sqrt{ \\left[ \\left(R \\dot{\\psi} + a \\dot{\\phi} \\right) \\sin \\theta \\cos \\phi + \\dot{\\theta} \\sin \\phi \\left( a \\cos \\theta - R \\right) + u_{\\rm x} \\right]^2 + \\left[ \\left( R \\dot{\\psi} + a \\dot{\\phi} \\right) \\sin \\theta \\sin \\phi + \\dot{\\theta} \\cos \\phi \\left( R - a \\cos \\theta \\right) + u_{\\rm y} \\right]^2 }}$"
   ]
  },
  {
   "cell_type": "markdown",
   "metadata": {},
   "source": [
    "---"
   ]
  },
  {
   "cell_type": "markdown",
   "metadata": {},
   "source": [
    "$\\vec{r} = \\vec{R} - \\vec{a}, \\vec{R} = -R \\left( \\sin \\theta \\hat{e}_{\\rm n^\\prime} + \\cos \\theta \\hat{e}_{\\rm 3} \\right), \\vec{a} = -a \\hat{e}_{\\rm 3}$<br>\n",
    "$\\vec{r} = -R \\sin \\theta\\ \\hat{e}_{\\rm n^\\prime} + \\left( a - R \\cos \\theta \\right)\\ \\hat{e}_{\\rm 3}$"
   ]
  },
  {
   "cell_type": "markdown",
   "metadata": {},
   "source": [
    "$\\vec{N}_{\\rm N} = \\vec{r} \\times \\vec{F}_{\\rm N}, \\vec{F}_{\\rm N} = \\left( m \\ddot{z}_{\\rm C} + m g \\right)\\ \\hat{e}_{\\rm z} = \\left( m \\ddot{z}_{\\rm C} + m g \\right) \\left(\\sin \\theta\\ \\hat{e}_{\\rm n^\\prime} + \\cos \\theta\\ \\hat{e}_{\\rm 3} \\right)$<br>\n",
    "\n",
    "$\\vec{N}_{\\rm N} = \\left[ -R \\sin\\theta\\ \\hat{e}_{\\rm n^\\prime} + \\left( a - R \\cos\\theta \\right)\\ \\hat{e}_{\\rm 3} \\right] \\times \\left( m \\ddot{z}_{\\rm C} + m g \\right) \\left(\\sin \\theta\\ \\hat{e}_{\\rm n^\\prime} + \\cos \\theta\\ \\hat{e}_{\\rm 3} \\right)$"
   ]
  },
  {
   "cell_type": "markdown",
   "metadata": {},
   "source": [
    "$\\vec{N}_{\\rm N} = \\left(m \\ddot{z}_{\\rm C} + m g \\right) \\left[ -R \\sin\\theta \\cos\\theta - \\left( a - R\\cos\\theta \\right)\\sin\\theta \\right]\\ \\hat{e}_{\\rm n} = \\boxed{ m \\left[ a \\left( \\dot{\\theta}^2 \\cos \\theta + \\ddot{\\theta} \\sin \\theta \\right) + g \\right] a\\sin\\theta\\ \\hat{e}_{\\rm n} = \\vec{N}_{\\rm N} }$"
   ]
  },
  {
   "cell_type": "markdown",
   "metadata": {},
   "source": [
    "$\\vec{N}_{\\rm f} = |\\vec{F}_{\\rm f}| \\left[\\left(R \\cos\\theta - a\\right)\\ \\hat{e}_{\\rm n^\\prime} - R\\sin\\theta\\ \\hat{e}_{\\rm 3} \\right]$ and $|\\vec{F}_{\\rm f}| = \\mu |\\vec{F}_{\\rm N}|$"
   ]
  },
  {
   "cell_type": "markdown",
   "metadata": {},
   "source": [
    "$\\boxed{ \\vec{N}_{\\rm f} = \\mu m \\left[ a \\left( \\dot{\\theta}^2 \\cos \\theta + \\ddot{\\theta} \\sin \\theta \\right) + g \\right] \\left[\\left(R \\cos\\theta - a\\right)\\ \\hat{e}_{\\rm n^\\prime} - R\\sin\\theta\\ \\hat{e}_{\\rm 3} \\right] }$"
   ]
  },
  {
   "cell_type": "markdown",
   "metadata": {},
   "source": [
    "---"
   ]
  },
  {
   "cell_type": "markdown",
   "metadata": {},
   "source": [
    "### Cohen's Equations"
   ]
  },
  {
   "cell_type": "markdown",
   "metadata": {},
   "source": [
    "1. $-\\mu m R\\sin\\theta\\ \\left[ a \\left( \\dot{\\theta}^2 \\cos \\theta + \\ddot{\\theta} \\sin \\theta \\right) + g \\right] = I_{\\rm 3}\\left( \\ddot{\\phi}\\cos\\theta - \\dot{\\phi}\\dot{\\theta}\\sin\\theta + \\ddot{\\psi} \\right)$\n",
    "2. $m \\left[ a \\left( \\dot{\\theta}^2 \\cos \\theta + \\ddot{\\theta} \\sin \\theta \\right) + g \\right] a\\sin\\theta\\ = I\\ddot{\\theta} + I_{\\rm 3} \\dot{\\phi}\\dot{\\psi}\\sin\\theta + \\left( I_{\\rm 3} - I \\right) \\dot{\\phi}^2\\sin\\theta\\cos\\theta$\n",
    "3. $\\mu m \\left[ a \\left( \\dot{\\theta}^2 \\cos \\theta + \\ddot{\\theta} \\sin \\theta \\right) + g \\right] \\left(R \\cos\\theta - a\\right) = I\\ddot{\\phi}\\sin\\theta + \\left( 2 I - I_{\\rm 3} \\right)\\dot{\\theta}\\dot{\\phi}\\cos\\theta - I_{\\rm 3} \\dot{\\theta}\\dot{\\psi}$\n",
    "4. $\\ddot{x}_{\\rm C} = -\\mu \\left[ a \\left( \\dot{\\theta}^2 \\cos\\theta + \\ddot{\\theta}\\sin\\theta + g \\right) \\right] \\times \\dfrac{\\left[ \\left(R \\dot{\\psi} + a \\dot{\\phi} \\right) \\sin \\theta \\cos \\phi + \\dot{\\theta} \\sin \\phi \\left( a \\cos \\theta - R \\right) + \\left( u_{\\rm CP} \\right)_{\\rm x} \\right]} {\\sqrt{ \\left[ \\left(R \\dot{\\psi} + a \\dot{\\phi} \\right) \\sin \\theta \\cos \\phi + \\dot{\\theta} \\sin \\phi \\left( a \\cos \\theta - R \\right) + u_{\\rm x} \\right]^2 + \\left[ \\left( R \\dot{\\psi} + a \\dot{\\phi} \\right) \\sin \\theta \\sin \\phi + \\dot{\\theta} \\cos \\phi \\left( R - a \\cos \\theta \\right) + u_{\\rm y} \\right]^2 }}$\n",
    "5. $\\ddot{y}_{\\rm C} = -\\mu \\left[ a \\left( \\dot{\\theta}^2 \\cos\\theta + \\ddot{\\theta}\\sin\\theta + g \\right) \\right] \\times \\dfrac{\\left[ \\left( R \\dot{\\psi} + a \\dot{\\phi} \\right) \\sin \\theta \\sin \\phi + \\dot{\\theta} \\cos \\phi \\left( R - a \\cos \\theta \\right) + \\left( u_{\\rm CP} \\right)_{\\rm y} \\right]} {\\sqrt{ \\left[ \\left(R \\dot{\\psi} + a \\dot{\\phi} \\right) \\sin \\theta \\cos \\phi + \\dot{\\theta} \\sin \\phi \\left( a \\cos \\theta - R \\right) + u_{\\rm x} \\right]^2 + \\left[ \\left( R \\dot{\\psi} + a \\dot{\\phi} \\right) \\sin \\theta \\sin \\phi + \\dot{\\theta} \\cos \\phi \\left( R - a \\cos \\theta \\right) + u_{\\rm y} \\right]^2 }}$\n",
    "6. $\\ddot{z}_{\\rm C} = a \\left( \\dot{\\theta}^2 \\cos \\theta + \\ddot{\\theta} \\sin \\theta \\right)$"
   ]
  },
  {
   "cell_type": "markdown",
   "metadata": {},
   "source": [
    "But I need to work out the angular accelerations individually."
   ]
  },
  {
   "cell_type": "markdown",
   "metadata": {},
   "source": [
    "$\\ddot{\\theta} = \\sin\\theta \\left[ I - ma^2\\sin^2 \\theta \\right]^{-1} \\left[ ma^2 \\left( \\dot{\\theta}^2 \\cos\\theta + g \\right) - I_{\\rm 3} \\dot{\\phi}\\dot{\\psi} - \\left( I_{\\rm 3} - I \\right) \\dot{\\phi}^2 \\cos\\theta\\right]$"
   ]
  },
  {
   "cell_type": "markdown",
   "metadata": {},
   "source": [
    "$\\ddot{\\phi} = \\left[ I \\sin\\theta \\right]^{-1} \\left\\{ \\mu m \\left[ a \\left( \\dot{\\theta}^2 \\cos \\theta + \\ddot{\\theta} \\sin \\theta \\right) + g \\right] \\left(R \\cos\\theta - a\\right) - \\left( 2 I - I_{\\rm 3} \\right)\\dot{\\theta}\\dot{\\phi}\\cos\\theta + I_{\\rm 3} \\dot{\\theta}\\dot{\\psi}\\right\\}$"
   ]
  },
  {
   "cell_type": "markdown",
   "metadata": {},
   "source": [
    "$\\ddot{\\psi} = - I_{\\rm 3}^{-1} \\mu m R\\sin\\theta\\  \\left[ a \\left( \\dot{\\theta}^2 \\cos \\theta + \\ddot{\\theta} \\sin \\theta \\right) + g \\right] - \\ddot{\\phi}\\cos\\theta + \\dot{\\phi}\\dot{\\theta}\\sin\\theta$"
   ]
  },
  {
   "cell_type": "markdown",
   "metadata": {},
   "source": [
    "---"
   ]
  },
  {
   "cell_type": "markdown",
   "metadata": {},
   "source": [
    "Next, I need to work out the moments of inertia in terms of $M$, $a$, and $R$."
   ]
  },
  {
   "cell_type": "code",
   "execution_count": 1,
   "metadata": {
    "collapsed": true
   },
   "outputs": [],
   "source": [
    "import numpy as np"
   ]
  },
  {
   "cell_type": "code",
   "execution_count": null,
   "metadata": {
    "collapsed": true
   },
   "outputs": [],
   "source": [
    "#theta, phi, psi, xC, yC, zC = y\n",
    "\n",
    "def ddot_zc(theta, dot_theta, ddot_theta, a=1):\n",
    "    return a*(dot_theta**2*np.cos(theta) + ddot_theta*np.sin(theta))\n",
    "\n",
    "def FN(theta, dot_theta, ddot_theta, a=1, m=1, g=1):\n",
    "    return"
   ]
  }
 ],
 "metadata": {
  "kernelspec": {
   "display_name": "Python 2",
   "language": "python",
   "name": "python2"
  },
  "language_info": {
   "codemirror_mode": {
    "name": "ipython",
    "version": 2
   },
   "file_extension": ".py",
   "mimetype": "text/x-python",
   "name": "python",
   "nbconvert_exporter": "python",
   "pygments_lexer": "ipython2",
   "version": "2.7.11"
  }
 },
 "nbformat": 4,
 "nbformat_minor": 0
}

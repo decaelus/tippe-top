{
 "cells": [
  {
   "cell_type": "markdown",
   "metadata": {},
   "source": [
    "This notebook solves the dynamical equations for tippe top rotation worked out in Cohen (1977) Am J Phys -- http://adsabs.harvard.edu/abs/1977AmJPh..45...12C."
   ]
  },
  {
   "cell_type": "markdown",
   "metadata": {},
   "source": [
    "$\\vec{N} = \\vec{r} \\times \\vec{F}_{\\rm T}$"
   ]
  },
  {
   "cell_type": "markdown",
   "metadata": {},
   "source": [
    "$\\vec{F}_{\\rm T} = \\vec{F}_{\\rm N} + \\vec{F}_{\\rm f}$"
   ]
  },
  {
   "cell_type": "markdown",
   "metadata": {},
   "source": [
    "$F_{\\rm N} = m \\ddot{z}_{\\rm C} + m g$\n",
    "\n",
    "$\\ddot{z}_{\\rm C} = a \\left( \\dot{\\theta}^2 \\cos \\theta + \\ddot{\\theta} \\sin \\theta \\right)$"
   ]
  },
  {
   "cell_type": "markdown",
   "metadata": {},
   "source": [
    "$\\vec{F}_{\\rm f} = \\left( -\\vec{v}_{\\rm TP}/|\\vec{v}_{\\rm TP}| \\right) \\mu |\\vec{F}_{\\rm N}|$"
   ]
  },
  {
   "cell_type": "markdown",
   "metadata": {},
   "source": [
    "$\\vec{v}_{\\rm TP} = \\vec{u}_{\\rm CP} + \\vec{v}_{\\rm TCP}$"
   ]
  },
  {
   "cell_type": "markdown",
   "metadata": {},
   "source": [
    "$\\vec{v}_{\\rm TCP} = \\left[ \\left(R \\dot{\\psi} + a \\dot{\\phi} \\right) \\sin \\theta \\cos \\phi + \\dot{\\theta} \\sin \\phi \\left( a \\cos \\theta - R \\right) \\right] \\hat{e}_{\\rm x} + \\left[ \\left( R \\dot{\\psi} + a \\dot{\\phi} \\right) \\sin \\theta \\sin \\phi + \\dot{\\theta} \\cos \\phi \\left( R - a \\cos \\theta \\right) \\right] \\hat{e}_{\\rm y}$"
   ]
  },
  {
   "cell_type": "markdown",
   "metadata": {},
   "source": [
    "$m \\dot{\\vec{u}}_{\\rm CP} = \\vec{F}_{\\rm f}$"
   ]
  },
  {
   "cell_type": "markdown",
   "metadata": {},
   "source": [
    "$\\vec{r} = \\vec{R} - \\vec{a}$ <br>\n",
    "$\\vec{R} = -R \\left( \\sin \\theta \\hat{e}_{\\rm n^\\prime} + \\cos \\theta \\hat{e}_{\\rm 3} \\right)$<br>\n",
    "$\\vec{a} = -a \\hat{e}_{\\rm 3}$<br>\n",
    "$\\vec{r} = -R \\sin \\theta \\hat{e}_{\\rm n^\\prime} + \\left( a - R \\cos \\theta \\right) \\hat{e}_{\\rm 3}$"
   ]
  },
  {
   "cell_type": "code",
   "execution_count": 1,
   "metadata": {
    "collapsed": true
   },
   "outputs": [],
   "source": [
    "import numpy as np"
   ]
  },
  {
   "cell_type": "code",
   "execution_count": null,
   "metadata": {
    "collapsed": true
   },
   "outputs": [],
   "source": [
    "#theta, phi, psi, xC, yC, zC = y\n",
    "\n",
    "def ddot_zc(theta, dot_theta, ddot_theta, a=1):\n",
    "    return a*(dot_theta**2*np.cos(theta) + ddot_theta*np.sin(theta))\n",
    "\n",
    "def FN(theta, dot_theta, ddot_theta, a=1, m=1, g=1):\n",
    "    return"
   ]
  }
 ],
 "metadata": {
  "kernelspec": {
   "display_name": "Python 2",
   "language": "python",
   "name": "python2"
  },
  "language_info": {
   "codemirror_mode": {
    "name": "ipython",
    "version": 2
   },
   "file_extension": ".py",
   "mimetype": "text/x-python",
   "name": "python",
   "nbconvert_exporter": "python",
   "pygments_lexer": "ipython2",
   "version": "2.7.11"
  }
 },
 "nbformat": 4,
 "nbformat_minor": 0
}
